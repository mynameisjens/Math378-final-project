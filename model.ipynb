{
  "cells": [
    {
      "cell_type": "raw",
      "metadata": {},
      "source": [
        "---\n",
        "title: \"Model\"\n",
        "format:\n",
        "  html:\n",
        "    code-fold: true\n",
        "---"
      ],
      "id": "bacf346a"
    },
    {
      "cell_type": "code",
      "metadata": {},
      "source": [
        "from palmerpenguins import penguins\n",
        "from pandas import get_dummies\n",
        "import numpy as np\n",
        "from sklearn.linear_model import LinearRegression\n",
        "from sklearn import preprocessing"
      ],
      "id": "8b41a017",
      "execution_count": null,
      "outputs": []
    },
    {
      "cell_type": "markdown",
      "metadata": {},
      "source": [
        "## Get Data\n"
      ],
      "id": "47498ad3"
    },
    {
      "cell_type": "code",
      "metadata": {},
      "source": [
        "df = penguins.load_penguins().dropna()\n",
        "\n",
        "df.head(3)"
      ],
      "id": "9a47d034",
      "execution_count": null,
      "outputs": []
    },
    {
      "cell_type": "markdown",
      "metadata": {},
      "source": [
        "## Define Model and Fit\n"
      ],
      "id": "77b7ab4e"
    },
    {
      "cell_type": "code",
      "metadata": {},
      "source": [
        "X = get_dummies(df[['bill_length_mm', 'species', 'sex']], drop_first = True)\n",
        "y = df['body_mass_g']\n",
        "\n",
        "model = LinearRegression().fit(X, y)"
      ],
      "id": "7247e86c",
      "execution_count": null,
      "outputs": []
    },
    {
      "cell_type": "markdown",
      "metadata": {},
      "source": [
        "## Get some information\n"
      ],
      "id": "ace02bd2"
    },
    {
      "cell_type": "code",
      "metadata": {},
      "source": [
        "print(f\"R^2 {model.score(X,y)}\")\n",
        "print(f\"Intercept {model.intercept_}\")\n",
        "print(f\"Columns {X.columns}\")\n",
        "print(f\"Coefficients {model.coef_}\")"
      ],
      "id": "2e7bb593",
      "execution_count": null,
      "outputs": []
    }
  ],
  "metadata": {
    "kernelspec": {
      "name": "python3",
      "language": "python",
      "display_name": "Python 3 (ipykernel)"
    }
  },
  "nbformat": 4,
  "nbformat_minor": 5
}