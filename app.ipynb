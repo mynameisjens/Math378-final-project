{
  "cells": [
    {
      "cell_type": "raw",
      "metadata": {},
      "source": [
        "---\n",
        "title: \"app\"\n",
        "format: html\n",
        "editor: visual\n",
        "---"
      ],
      "id": "c0587ed0"
    },
    {
      "cell_type": "code",
      "metadata": {},
      "source": [
        "app.run(port = 8080)"
      ],
      "id": "ea1e82d0",
      "execution_count": null,
      "outputs": []
    }
  ],
  "metadata": {
    "kernelspec": {
      "name": "python3",
      "language": "python",
      "display_name": "Python 3 (ipykernel)"
    }
  },
  "nbformat": 4,
  "nbformat_minor": 5
}